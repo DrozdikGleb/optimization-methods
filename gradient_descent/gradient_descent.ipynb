{
 "cells": [
  {
   "cell_type": "code",
   "execution_count": 18,
   "metadata": {},
   "outputs": [],
   "source": [
    "import matplotlib.pyplot as plt\n",
    "import matplotlib.ticker as ticker\n",
    "import numpy as np\n",
    "import sys\n",
    "sys.path.insert(1, '../one_dimensional_search')\n",
    "from one_dimensional_search import dichotomy, golden_ratio, fibonacci, line_search\n",
    "from gradient_descent import gradient_descent"
   ]
  },
  {
   "cell_type": "code",
   "execution_count": 64,
   "metadata": {},
   "outputs": [],
   "source": [
    "def build_plots(func, func_grad, x):\n",
    "    one_dim_methods = [dichotomy, golden_ratio, fibonacci]\n",
    "    one_dim_methods_name = [\"Дихотомия\", \"Золотое сечение\", \"Фибонначи\", \"Постоянный шаг\"]\n",
    "    iters_num = []\n",
    "    for method in one_dim_methods:\n",
    "        res = gradient_descent(func, func_grad, x, method, eps=1e-4)\n",
    "        iters_num.append(res)\n",
    "    \n",
    "    const_res = gradient_descent(func, func_grad, x, None, True)\n",
    "    print(const_res)\n",
    "    fig, ax = plt.subplots()\n",
    "    for axis in [ax.xaxis, ax.yaxis]:\n",
    "        axis.set_major_locator(ticker.MaxNLocator(integer=True))\n",
    "        \n",
    "    y_pos = np.arange(len(one_dim_methods))\n",
    "    ax.barh(y_pos, iters_num, align='center')\n",
    "    ax.set_yticks(y_pos)\n",
    "    ax.set_yticklabels(one_dim_methods_name)\n",
    "    ax.invert_yaxis()\n",
    "    ax.set_xlabel('iterations')\n",
    "    ax.set_title('Gradient convergence')"
   ]
  },
  {
   "cell_type": "code",
   "execution_count": 65,
   "metadata": {},
   "outputs": [],
   "source": [
    "function = lambda x: x ** 2\n",
    "function_grad = lambda x: 2 * x"
   ]
  },
  {
   "cell_type": "code",
   "execution_count": 66,
   "metadata": {},
   "outputs": [
    {
     "name": "stdout",
     "output_type": "stream",
     "text": [
      "149786\n"
     ]
    },
    {
     "data": {
      "image/png": "[encoded data removed]",
      "text/plain": [
       "<Figure size 432x288 with 1 Axes>"
      ]
     },
     "metadata": {
      "needs_background": "light"
     },
     "output_type": "display_data"
    }
   ],
   "source": [
    "build_plots(function, function_grad, -100)"
   ]
  },
  {
   "cell_type": "code",
   "execution_count": null,
   "metadata": {},
   "outputs": [],
   "source": []
  },
  {
   "cell_type": "code",
   "execution_count": null,
   "metadata": {},
   "outputs": [],
   "source": []
  }
 ],
 "metadata": {
  "kernelspec": {
   "display_name": "Python 3",
   "language": "python",
   "name": "python3"
  },
  "language_info": {
   "codemirror_mode": {
    "name": "ipython",
    "version": 3
   },
   "file_extension": ".py",
   "mimetype": "text/x-python",
   "name": "python",
   "nbconvert_exporter": "python",
   "pygments_lexer": "ipython3",
   "version": "3.6.8"
  }
 },
 "nbformat": 4,
 "nbformat_minor": 2
}
